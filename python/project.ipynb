{
 "cells": [
  {
   "cell_type": "markdown",
   "metadata": {},
   "source": [
    "### 온라인 뱅킹 시스템 만들어보기\n",
    "\n",
    "온라인 뱅킹 시스템\"을 만드는 것입니다. \n",
    "\n",
    "이 시스템은 사용자가 자신의 계좌를 관리하고 거래를 기록하며, 입금, 출금, 잔고 확인 및 거래 내역을 확인할 수 있는 기능을 제공합니다. \n",
    "\n",
    "각 기능은 개별적인 클래스로 구현되며, 타입 힌팅과 예외 처리를 통해 견고한 코드를 작성하는 연습을 할 수 있습니다.\n",
    "\n",
    "-----\n",
    "\n",
    "### 프로젝트 구성 요소\n",
    "#### 1. Transaction 클래스:\n",
    "\n",
    "거래 내역을 나타내는 클래스입니다. 거래 유형, 금액, 잔고를 속성으로 가지고 있습니다.\n",
    "문자열로 거래 내역을 반환하는 메서드와 튜플로 반환하는 메서드를 구현합니다.\n",
    "\n",
    "#### 2. Account 클래스:\n",
    "\n",
    "계좌를 나타내는 클래스입니다. 잔고와 거래 내역을 관리합니다.\n",
    "입금, 출금, 잔고 확인 및 거래 내역을 반환하는 메서드를 구현합니다.\n",
    "클래스 변수로 은행 이름을 관리하고, 이를 설정하고 반환하는 메서드를 구현합니다.\n",
    "\n",
    "#### 3. User 클래스:\n",
    "\n",
    "사용자를 나타내는 클래스입니다. 사용자 이름과 계좌를 속성으로 가지고 있습니다.\n",
    "생성자를 통해 사용자 이름과 계좌를 초기화합니다.\n",
    "\n",
    "#### 4. BankingService 클래스:\n",
    "여러 사용자를 관리하는 서비스 클래스입니다.\n",
    "사용자를 추가하고, 찾고, 사용자 메뉴를 제공하는 메서드를 구현합니다.\n",
    "\n",
    "#### 5. 데코레이터 및 예외 처리:\n",
    "거래 금액이 유효한지 확인하는 데코레이터를 구현합니다.\n",
    "잔고 부족, 음수 금액 입력, 사용자 찾기 실패 등의 상황을 처리하는 사용자 정의 예외 클래스를 구현합니다.\n",
    "\n",
    "#### 6. 메인 함수:\n",
    "\n",
    "사용자로부터 입력을 받아 사용자를 추가하거나 찾고, 사용자 메뉴를 통해 입금, 출금, 잔고 확인, 거래 내역 기능을 제공하는 메인 함수를 구현합니다.\n",
    "\n",
    "-----\n",
    "\n",
    "### 각 클래스와 메서드의 상세 설명\n",
    "#### Transaction 클래스:\n",
    "\n",
    "__init__(self, transaction_type: str, amount: int, balance: int) -> None: 거래 유형, 금액, 잔고를 초기화합니다.\n",
    "__str__(self) -> str: 거래 정보를 문자열로 반환합니다.\n",
    "to_tuple(self) -> tuple: 거래 정보를 튜플로 반환합니다.\n",
    "\n",
    "#### Account 클래스:\n",
    "\n",
    "__init__(self) -> None: 잔고와 거래 내역을 초기화합니다.\n",
    "deposit(self, amount: int) -> None: 금액을 입금하고, 거래 내역에 추가합니다.\n",
    "withdraw(self, amount: int) -> None: 금액을 출금하고, 거래 내역에 추가합니다.\n",
    "get_balance(self) -> int: 현재 잔고를 반환합니다.\n",
    "get_transactions(self) -> list: 거래 내역을 반환합니다.\n",
    "get_bank_name(cls) -> str: 은행 이름을 반환하는 클래스 메서드입니다.\n",
    "set_bank_name(cls, name: str) -> None: 은행 이름을 설정하는 클래스 메서드입니다.\n",
    "\n",
    "#### User 클래스:\n",
    "\n",
    "__init__(self, username: str) -> None: 사용자 이름과 계좌를 초기화합니다.\n",
    "BankingService 클래스:\n",
    "\n",
    "__init__(self) -> None: 사용자 목록을 초기화합니다.\n",
    "add_user(self, username: str) -> None: 사용자를 추가합니다.\n",
    "find_user(self, username: str) -> User: 사용자를 찾습니다.\n",
    "user_menu(self, username: str) -> None: 사용자 메뉴를 제공합니다.\n",
    "\n",
    "#### 데코레이터 및 예외 처리:\n",
    "\n",
    "validate_transaction(func: Callable) -> Callable: 거래 금액이 유효한지 확인하는 데코레이터입니다.\n",
    "InsufficientFundsError(Exception): 잔고 부족 상황을 처리하는 예외 클래스입니다.\n",
    "NegativeAmountError(Exception): 음수 금액 입력 상황을 처리하는 예외 클래스입니다.\n",
    "UserNotFoundError(Exception): 사용자 찾기 실패 상황을 처리하는 예외 클래스입니다.\n",
    "\n",
    "#### 메인 함수:\n",
    "\n",
    "main() -> None: BankingService 인스턴스를 생성하고, 사용자로부터 입력을 받아 사용자 추가 및 찾기 기능을 제공하며, 사용자 메뉴를 통해 입금, 출금, 잔고 확인, 거래 내역 기능을 실행합니다.\n",
    "\n",
    "### 프로젝트의 목표\n",
    "이 프로젝트의 목표는 다음과 같습니다:\n",
    "\n",
    "1. 객체 지향 프로그래밍: 클래스를 정의하고, 객체를 생성하며, 객체 간의 상호작용을 구현합니다.\n",
    "2. 타입 힌팅: 타입 힌팅을 사용하여 코드의 가독성과 안정성을 높입니다.\n",
    "3. 예외 처리: 다양한 예외 상황을 처리하여 견고한 코드를 작성합니다.\n",
    "4. 사용자 입력 처리: 사용자로부터 입력을 받아 시스템을 작동시키는 인터페이스를 구현합니다.\n",
    "\n",
    "### 기대 효과\n",
    "이 프로젝트를 통해 다음과 같은 효과를 기대할 수 있습니다:\n",
    "\n",
    "- 클래스와 객체: 클래스를 정의하고 객체를 생성하며, 객체 간의 상호작용을 이해할 수 있습니다.\n",
    "- 타입 힌팅: 타입 힌팅을 사용하여 함수와 메서드의 인자와 반환 타입을 명확히 정의할 수 있습니다.\n",
    "- 예외 처리: 다양한 예외 상황을 처리하여 프로그램의 안정성을 높일 수 있습니다.\n",
    "- 사용자 입력 처리: 사용자 입력을 처리하고, 입력에 따라 프로그램이 적절히 동작하도록 구현할 수 있습니다.\n",
    "\n",
    "이 프로젝트는 다양한 프로그래밍 개념을 종합적으로 활용하여 실습할 수 있는 좋은 기회가 될 것입니다.<br>\n",
    "각 과제를 해결하면서 객체 지향 프로그래밍, 타입 힌팅, 예외 처리 등의 개념을 깊이 이해하고 응용할 수 있습니다.\n",
    "\n",
    "----- \n"
   ]
  },
  {
   "cell_type": "markdown",
   "metadata": {},
   "source": [
    "#### 과제 1: Transaction 클래스 구현\n",
    "파일명: banking_system/models/transaction.py\n",
    "\n",
    "<b>해결해야 할 과제 및 요구 사항:</b>\n",
    "\n",
    "1. 거래(Transaction) 클래스를 정의하고, transaction_type, amount, balance 속성을 초기화하는 생성자를 구현합니다.\n",
    "2. 거래 정보를 문자열로 반환하는 __str__ 메서드를 구현합니다.\n",
    "3. 거래 정보를 튜플로 반환하는 to_tuple 메서드를 구현합니다.\n",
    "\n",
    "<b>변수 컨벤션:</b>\n",
    "\n",
    "- transaction_type: 거래 유형을 나타내는 문자열 (예: \"입금\", \"출금\")\n",
    "- amount: 거래 금액을 나타내는 정수\n",
    "- balance: 거래 후 잔고를 나타내는 정수\n",
    "\n",
    "##### 문제 1.1: 생성자 구현\n",
    "\n",
    "- transaction_type, amount, balance 속성을 초기화하는 생성자를 구현하세요.\n",
    "- 타입 힌팅을 사용하여 생성자의 매개변수 타입을 지정하세요.\n",
    "    - 함수 시그니처: __init__(self, transaction_type: str, amount: int, balance: int) -> None"
   ]
  },
  {
   "cell_type": "code",
   "execution_count": 9,
   "metadata": {},
   "outputs": [],
   "source": [
    "class Transaction:\n",
    "    def __init__(self, transaction_type: str, amount: int, balance: int) -> None:\n",
    "        self.transaction_type=transaction_type\n",
    "        self.amount=amount\n",
    "        self.balance=balance\n",
    "\n",
    "    def __str__(self) -> str:\n",
    "        return f\"[거래유형]:{self.transaction_type} [거래 금액]:{self.amount} [거래 후 잔금]:{self.balance}\"\n",
    "    \n",
    "    \n",
    "    def to_tuple(self) -> tuple: \n",
    "        return (self.transaction_type,self.amount,self.balance)\n"
   ]
  },
  {
   "cell_type": "markdown",
   "metadata": {},
   "source": [
    "##### 문제 1.2: 문자열 반환 메서드 구현\n",
    "\n",
    "- 거래 정보를 문자열로 반환하는 __str__ 메서드를 구현하세요.\n",
    "- 타입 힌팅을 사용하여 메서드의 반환 타입을 지정하세요.\n",
    "    - 함수 시그니처: __str__(self) -> str"
   ]
  },
  {
   "cell_type": "code",
   "execution_count": null,
   "metadata": {},
   "outputs": [],
   "source": [
    "\n"
   ]
  },
  {
   "cell_type": "markdown",
   "metadata": {},
   "source": [
    "##### 문제 1.3: 튜플 반환 메서드 구현\n",
    "\n",
    "- 거래 정보를 튜플로 반환하는 to_tuple 메서드를 구현하세요.\n",
    "- 타입 힌팅을 사용하여 메서드의 반환 타입을 지정하세요.\n",
    "    - 함수 시그니처: to_tuple(self) -> tuple"
   ]
  },
  {
   "cell_type": "code",
   "execution_count": 10,
   "metadata": {},
   "outputs": [],
   "source": [
    "def validateTransaction(func:callable)->callable:\n",
    "    def wrapper(self,amount):\n",
    "        try:\n",
    "            if amount<0:\n",
    "                raise NegativeAmountError()\n",
    "        except NegativeAmountError as e:\n",
    "            print(e)\n",
    "        else:\n",
    "            func(self,amount)\n",
    "    return wrapper\n",
    "\n",
    "class InsufficientFundsError(Exception):\n",
    "    def __init__(self, balance: int) -> None:\n",
    "        super().__init__(f\"잔고가 부족합니다 잔액 : {balance}\")\n",
    "        \n",
    "class NegativeAmountError(Exception):\n",
    "    def __init__(self) -> None:\n",
    "        super().__init__(f\"금액이 음수입니다. 양수로 입력해주세요.\")\n",
    "\n",
    "class UserNotFoundError(Exception):\n",
    "    def __init__(self, username: str) -> None:\n",
    "        super().__init__(f\"{username}을 찾을수 없습니다.\")"
   ]
  },
  {
   "cell_type": "markdown",
   "metadata": {},
   "source": [
    "#### 과제 2: Account 클래스 구현\n",
    "파일명: banking_system/models/account.py\n",
    "\n",
    "<b>해결해야 할 과제 및 요구 사항:</b>\n",
    "\n",
    "1. __balance와 transactions 리스트를 초기화하는 생성자를 구현합니다.\n",
    "2. 입금을 위한 deposit 메서드를 구현합니다.\n",
    "3. 출금을 위한 withdraw 메서드를 구현합니다.\n",
    "4. 잔고를 반환하는 get_balance 메서드를 구현합니다.\n",
    "5. 거래 내역을 반환하는 get_transactions 메서드를 구현합니다.\n",
    "6. 클래스 변수 bank_name와 클래스 메소드 get_bank_name, set_bank_name을 구현합니다.\n",
    "\n",
    "<b>변수 컨벤션:</b>\n",
    "\n",
    "- __balance: 계좌 잔고를 나타내는 프라이빗 정수 변수\n",
    "- transactions: 거래 내역을 저장하는 리스트\n",
    "- bank_name: 은행 이름을 나타내는 클래스 변수 문자열\n",
    "- amount: 입금 또는 출금 금액을 나타내는 정수\n",
    "\n",
    "##### 문제 2.1: 생성자 구현\n",
    "\n",
    "- __balance와 transactions 리스트를 초기화하는 생성자를 구현하세요.\n",
    "- 타입 힌팅을 사용하여 생성자의 매개변수 타입을 지정하세요.\n",
    "    - 함수 시그니처: __init__(self) -> None"
   ]
  },
  {
   "cell_type": "code",
   "execution_count": 11,
   "metadata": {},
   "outputs": [],
   "source": [
    "class Account:\n",
    "    bankName=\"a은행\"\n",
    "\n",
    "    def __init__(self):\n",
    "        self.__balance=0\n",
    "        self.transaction=[]\n",
    "    @validateTransaction\n",
    "    def deposit(self,amount:int)->None:\n",
    "        self.__balance+=amount\n",
    "        self.transaction.append(Transaction(\"입금\",amount,self.__balance))\n",
    "        \n",
    "    @validateTransaction\n",
    "    def withdraw(self,amount:int)->None:\n",
    "        try:\n",
    "            if amount>self.__balance:\n",
    "                raise InsufficientFundsError(self.__balance)\n",
    "        except InsufficientFundsError as e:\n",
    "            print(e)\n",
    "        else:\n",
    "            self.__balance-=amount\n",
    "            self.transaction.append(Transaction(\"출금\",amount,self.__balance))\n",
    "    \n",
    "    def getBalance(self)->int:\n",
    "        return self.__balance\n",
    "    \n",
    "    def getTransaction(self)->list:\n",
    "        return self.transaction\n",
    "\n",
    "    @classmethod\n",
    "    def getBankName(cls) -> str:\n",
    "        return cls.bankName\n",
    "    \n",
    "    @classmethod\n",
    "    def setBankName(cls, name: str) -> None:\n",
    "        cls.bankName=name"
   ]
  },
  {
   "cell_type": "markdown",
   "metadata": {},
   "source": [
    "##### 문제 2.2: 입금 메서드 구현\n",
    "\n",
    "- 입금을 위한 deposit 메서드를 구현하세요.\n",
    "- 금액이 양수인지 확인한 후 잔고를 증가시키고, 거래 내역에 추가합니다.\n",
    "- 타입 힌팅을 사용하여 메서드의 매개변수와 반환 타입을 지정하세요.\n",
    "    - 함수 시그니처: deposit(self, amount: int) -> None"
   ]
  },
  {
   "cell_type": "code",
   "execution_count": null,
   "metadata": {},
   "outputs": [],
   "source": []
  },
  {
   "cell_type": "markdown",
   "metadata": {},
   "source": [
    "##### 문제 2.3: 출금 메서드 구현\n",
    "\n",
    "- 출금을 위한 withdraw 메서드를 구현하세요.\n",
    "- 금액이 잔고보다 크지 않고 양수인지 확인한 후 잔고를 감소시키고, 거래 내역에 추가합니다.\n",
    "- 타입 힌팅을 사용하여 메서드의 매개변수와 반환 타입을 지정하세요.\n",
    "    - 함수 시그니처: withdraw(self, amount: int) -> None"
   ]
  },
  {
   "cell_type": "code",
   "execution_count": null,
   "metadata": {},
   "outputs": [],
   "source": []
  },
  {
   "cell_type": "markdown",
   "metadata": {},
   "source": [
    "##### 문제 2.4: 잔고 반환 메서드 구현\n",
    "\n",
    "- 잔고를 반환하는 get_balance 메서드를 구현하세요.\n",
    "- 타입 힌팅을 사용하여 메서드의 반환 타입을 지정하세요.\n",
    "    - 함수 시그니처: get_balance(self) -> int"
   ]
  },
  {
   "cell_type": "markdown",
   "metadata": {},
   "source": []
  },
  {
   "cell_type": "markdown",
   "metadata": {},
   "source": [
    "##### 문제 2.5: 거래 내역 반환 메서드 구현\n",
    "\n",
    "- 거래 내역을 반환하는 get_transactions 메서드를 구현하세요.\n",
    "- 타입 힌팅을 사용하여 메서드의 반환 타입을 지정하세요.\n",
    "    - 함수 시그니처: get_transactions(self) -> list\n"
   ]
  },
  {
   "cell_type": "code",
   "execution_count": null,
   "metadata": {},
   "outputs": [],
   "source": []
  },
  {
   "cell_type": "markdown",
   "metadata": {},
   "source": [
    "##### 문제 2.6: 클래스 변수 및 메서드 구현\n",
    "\n",
    "- 클래스 변수 bank_name와 클래스 메소드 get_bank_name, set_bank_name을 구현하세요.\n",
    "- 타입 힌팅을 사용하여 클래스 메서드의 매개변수와 반환 타입을 지정하세요.\n",
    "    - 함수 시그니처:\n",
    "        - get_bank_name(cls) -> str\n",
    "        - set_bank_name(cls, name: str) -> None"
   ]
  },
  {
   "cell_type": "code",
   "execution_count": null,
   "metadata": {},
   "outputs": [],
   "source": []
  },
  {
   "cell_type": "markdown",
   "metadata": {},
   "source": [
    "#### 과제 3: User 클래스 구현\n",
    "파일명: banking_system/models/user.py\n",
    "\n",
    "<b>해결해야 할 과제 및 요구 사항:</b>\n",
    "\n",
    "username과 account를 초기화하는 생성자를 구현합니다.\n",
    "\n",
    "<b>변수 컨벤션:</b>\n",
    "\n",
    "username: 사용자의 이름을 나타내는 문자열\n",
    "account: 사용자의 계좌를 나타내는 Account 객체\n",
    "\n",
    "##### 문제 3.1: 생성자 구현\n",
    "\n",
    "- username과 account를 초기화하는 생성자를 구현하세요.\n",
    "- 타입 힌팅을 사용하여 생성자의 매개변수 타입을 지정하세요.\n",
    "    - 함수 시그니처: __init__(self, username: str) -> None"
   ]
  },
  {
   "cell_type": "code",
   "execution_count": 12,
   "metadata": {},
   "outputs": [],
   "source": [
    "class User:\n",
    "    def __init__(self,username:str) -> None:\n",
    "        self.username=username\n",
    "        self.account=Account()"
   ]
  },
  {
   "cell_type": "markdown",
   "metadata": {},
   "source": [
    "#### 과제 4: BankingService 클래스 구현\n",
    "파일명: banking_system/services/banking_service.py\n",
    "\n",
    "<b>해결해야 할 과제 및 요구 사항:</b>\n",
    "\n",
    "1. 사용자 목록을 초기화하는 생성자를 구현합니다.\n",
    "2. 사용자를 추가하는 add_user 메서드를 구현합니다.\n",
    "3. 사용자를 찾는 find_user 메서드를 구현합니다.\n",
    "4. 사용자 메뉴를 제공하는 user_menu 메서드를 구현합니다.\n",
    "\n",
    "<b>변수 컨벤션:</b>\n",
    "\n",
    "- users: 사용자 목록을 저장하는 리스트\n",
    "- username: 사용자의 이름을 나타내는 문자열\n",
    "- user: User 객체를 나타내는 변수\n",
    "- amount: 입금 또는 출금 금액을 나타내는 정수\n",
    "- choice: 사용자의 선택을 나타내는 문자열\n",
    "\n",
    "##### 문제 4.1: 생성자 구현\n",
    "\n",
    "- 사용자 목록을 초기화하는 생성자를 구현하세요.\n",
    "- 타입 힌팅을 사용하여 생성자의 매개변수 타입을 지정하세요.\n",
    "    - 함수 시그니처: __init__(self) -> None"
   ]
  },
  {
   "cell_type": "code",
   "execution_count": 13,
   "metadata": {},
   "outputs": [],
   "source": [
    "class BankingService:\n",
    "    def __init__(self) -> None:\n",
    "        self.users=[]\n",
    "\n",
    "    def addUser(self,username:str)->None:\n",
    "        self.users.append(User(username))\n",
    "\n",
    "    def findUser(self,username:str)->User:\n",
    "        for i in self.users:\n",
    "            if i.username==username:\n",
    "                return i\n",
    "        raise UserNotFoundError(username)\n",
    "\n",
    "    def userMenu(self, username: str) -> None:\n",
    "            try:\n",
    "                user=self.findUser(username)\n",
    "            except UserNotFoundError as e:\n",
    "                print(e)\n",
    "            else:\n",
    "                while True:\n",
    "                    select=int(input(\"숫자를 입력하세요 1.입금 2.출금 3.잔고확인 4.거래내역 확인 5.종료\"))\n",
    "                    if select==1:\n",
    "                        user.account.deposit(int(input(\"입금할 금액을 입력하세요\")))\n",
    "                    elif select==2:\n",
    "                        user.account.withdraw(int(input(\"출금할 금액을 입력하세요\")))\n",
    "                    elif select==3:\n",
    "                        print(f\"잔액 : {user.account.getBalance()}\")\n",
    "                    elif select==4:\n",
    "                        print(list(map(str,user.account.getTransaction())))\n",
    "                    elif select==5:\n",
    "                        break"
   ]
  },
  {
   "cell_type": "markdown",
   "metadata": {},
   "source": [
    "##### 문제 4.2: 사용자 추가 메서드 구현\n",
    "\n",
    "- 사용자를 추가하는 add_user 메서드를 구현하세요.\n",
    "- User 객체를 생성하여 사용자 목록에 추가합니다.\n",
    "- 타입 힌팅을 사용하여 메서드의 매개변수와 반환 타입을 지정하세요.\n",
    "    - 함수 시그니처: add_user(self, username: str) -> None"
   ]
  },
  {
   "cell_type": "code",
   "execution_count": null,
   "metadata": {},
   "outputs": [],
   "source": []
  },
  {
   "cell_type": "markdown",
   "metadata": {},
   "source": [
    "##### 문제 4.3: 사용자 찾기 메서드 구현\n",
    "\n",
    "- 사용자를 찾는 find_user 메서드를 구현하세요.\n",
    "- 사용자 목록을 검색하여 해당 사용자를 반환하고, 없으면 예외를 발생시킵니다.\n",
    "- 타입 힌팅을 사용하여 메서드의 매개변수와 반환 타입을 지정하세요.\n",
    "    - 함수 시그니처: find_user(self, username: str) -> User"
   ]
  },
  {
   "cell_type": "code",
   "execution_count": null,
   "metadata": {},
   "outputs": [],
   "source": []
  },
  {
   "cell_type": "markdown",
   "metadata": {},
   "source": [
    "##### 문제 4.4: 사용자 메뉴 제공 메서드 구현\n",
    "\n",
    "- 사용자 메뉴를 제공하는 user_menu 메서드를 구현하세요.\n",
    "- 사용자를 찾고, 입금, 출금, 잔고 확인, 거래 내역 기능을 제공하는 반복 루프를 구현합니다.\n",
    "- 타입 힌팅을 사용하여 메서드의 매개변수와 반환 타입을 지정하세요.\n",
    "    - 함수 시그니처: user_menu(self, username: str) -> None"
   ]
  },
  {
   "cell_type": "code",
   "execution_count": null,
   "metadata": {},
   "outputs": [],
   "source": []
  },
  {
   "cell_type": "markdown",
   "metadata": {},
   "source": [
    "#### 과제 5: 데코레이터 및 예외 처리 구현\n",
    "파일명: banking_system/utils/decorators.py, banking_system/utils/exceptions.py\n",
    "\n",
    "<b>해결해야 할 과제 및 요구 사항:</b>\n",
    "\n",
    "1. validate_transaction 데코레이터를 작성하여 금액이 0보다 큰지 확인합니다.\n",
    "2. 사용자 정의 예외 클래스 InsufficientFundsError, NegativeAmountError, UserNotFoundError를 작성합니다.\n",
    "\n",
    "##### 문제 5.1: 데코레이터 구현\n",
    "\n",
    "- validate_transaction 데코레이터를 작성하여 금액이 0보다 큰지 확인합니다.\n",
    "- 타입 힌팅을 사용하여 함수의 매개변수와 반환 타입을 지정하세요.\n",
    "    - 함수 시그니처: validate_transaction(func: Callable) -> Callable"
   ]
  },
  {
   "cell_type": "code",
   "execution_count": 14,
   "metadata": {},
   "outputs": [],
   "source": [
    "def validateTransaction(func:callable)->callable:\n",
    "    def wrapper(self,amount):\n",
    "        try:\n",
    "            if amount<0:\n",
    "                raise NegativeAmountError()\n",
    "        except NegativeAmountError as e:\n",
    "            print(e)\n",
    "        else:\n",
    "            func(self,amount)\n",
    "    return wrapper\n",
    "\n"
   ]
  },
  {
   "cell_type": "markdown",
   "metadata": {},
   "source": [
    "#### 문제 5.2: 사용자 정의 예외 클래스 구현\n",
    "\n",
    "- 사용자 정의 예외 클래스 InsufficientFundsError, NegativeAmountError, UserNotFoundError를 작성하세요.\n",
    "- 각 예외 클래스에 타입 힌팅을 사용하여 생성자의 매개변수와 반환 타입을 지정하세요.\n",
    "    - 함수 시그니처:\n",
    "        - InsufficientFundsError.__init__(self, balance: int) -> None\n",
    "        - NegativeAmountError.__init__(self) -> None\n",
    "        - UserNotFoundError.__init__(self, username: str) -> None"
   ]
  },
  {
   "cell_type": "code",
   "execution_count": 15,
   "metadata": {},
   "outputs": [],
   "source": [
    "class InsufficientFundsError(Exception):\n",
    "    def __init__(self, balance: int) -> None:\n",
    "        super().__init__(f\"잔고가 부족합니다 잔액 : {balance}\")\n",
    "        \n",
    "class NegativeAmountError(Exception):\n",
    "    def __init__(self) -> None:\n",
    "        super().__init__(f\"금액이 음수입니다. 양수로 입력해주세요.\")\n",
    "\n",
    "class UserNotFoundError(Exception):\n",
    "    def __init__(self, username: str) -> None:\n",
    "        super().__init__(f\"{username}을 찾을수 없습니다.\")"
   ]
  },
  {
   "cell_type": "markdown",
   "metadata": {},
   "source": [
    "#### 과제 6: 메인 함수 구현\n",
    "파일명: banking_system/main.py\n",
    "\n",
    "<b>해결해야 할 과제 및 요구 사항:</b>\n",
    "\n",
    "1. BankingService 인스턴스를 생성합니다.\n",
    "2. 사용자로부터 입력을 받아 사용자 추가 및 찾기 기능을 제공합니다.\n",
    "3. 사용자 메뉴를 통해 입금, 출금, 잔고 확인, 거래 내역 기능을 실행할 수 있도록 합니다.\n",
    "\n",
    "##### 문제 6.1: 메인 함수 구현\n",
    "\n",
    "- BankingService 인스턴스를 생성하세요.\n",
    "- 사용자로부터 입력을 받아 사용자 추가 및 찾기 기능을 구현하세요.\n",
    "- 사용자 메뉴를 통해 입금, 출금, 잔고 확인, 거래 내역 기능을 실행할 수 있도록 구현하세요.\n",
    "- 타입 힌팅을 사용하여 함수의 매개변수와 반환 타입을 지정하세요.\n",
    "    - 함수 시그니처: main() -> None"
   ]
  },
  {
   "cell_type": "code",
   "execution_count": 17,
   "metadata": {},
   "outputs": [
    {
     "name": "stdout",
     "output_type": "stream",
     "text": [
      "b을 찾을수 없습니다.\n",
      "잔액 : 100\n",
      "['[거래유형]:입금 [거래 금액]:100 [거래 후 잔금]:100']\n",
      "금액이 음수입니다. 양수로 입력해주세요.\n",
      "잔고가 부족합니다 잔액 : 100\n",
      "잔액 : 100\n"
     ]
    }
   ],
   "source": [
    "bankingService=BankingService()\n",
    "bankingService.addUser(\"a\")\n",
    "bankingService.userMenu(\"b\")\n",
    "bankingService.userMenu(\"a\")"
   ]
  }
 ],
 "metadata": {
  "kernelspec": {
   "display_name": "Python 3",
   "language": "python",
   "name": "python3"
  },
  "language_info": {
   "codemirror_mode": {
    "name": "ipython",
    "version": 3
   },
   "file_extension": ".py",
   "mimetype": "text/x-python",
   "name": "python",
   "nbconvert_exporter": "python",
   "pygments_lexer": "ipython3",
   "version": "3.11.0"
  }
 },
 "nbformat": 4,
 "nbformat_minor": 2
}
