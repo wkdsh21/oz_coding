{
 "cells": [
  {
   "cell_type": "code",
   "execution_count": 10,
   "metadata": {},
   "outputs": [
    {
     "data": {
      "text/plain": [
       "'대한민국'"
      ]
     },
     "execution_count": 10,
     "metadata": {},
     "output_type": "execute_result"
    }
   ],
   "source": [
    "from selenium import webdriver\n",
    "from selenium.webdriver.common.by import By\n",
    "\n",
    "browser = webdriver.Chrome()  # 경로지정\n",
    "browser.get(\"http://google.com\")\n",
    "\n",
    "\n",
    "browser.find_element(By.CLASS_NAME,'uU7dJb').text\n"
   ]
  },
  {
   "cell_type": "code",
   "execution_count": 11,
   "metadata": {},
   "outputs": [],
   "source": [
    "browser = webdriver.Chrome()  # 경로지정\n",
    "url =\"https://www.yes24.com/Product/Category/BestSeller?CategoryNumber=001&sumgb=06\"\n",
    "browser.get(url)"
   ]
  },
  {
   "cell_type": "code",
   "execution_count": 12,
   "metadata": {},
   "outputs": [
    {
     "name": "stdout",
     "output_type": "stream",
     "text": [
      "https://www.yes24.com/Product/Goods/133213071\n",
      "https://www.yes24.com/Product/Goods/125557465\n",
      "https://www.yes24.com/Product/Goods/131930939\n",
      "https://www.yes24.com/Product/Goods/133312039\n",
      "https://www.yes24.com/Product/Goods/133870359\n",
      "https://www.yes24.com/Product/Goods/104663596\n",
      "https://www.yes24.com/Product/Goods/133236068\n",
      "https://www.yes24.com/Product/Goods/132560712\n",
      "https://www.yes24.com/Product/Goods/133199014\n",
      "https://www.yes24.com/Product/Goods/117014613\n",
      "https://www.yes24.com/Product/Goods/133308510\n",
      "https://www.yes24.com/Product/Goods/134331993\n",
      "https://www.yes24.com/Product/Goods/128266166\n",
      "https://www.yes24.com/Product/Goods/124999476\n",
      "https://www.yes24.com/Product/Goods/124539805\n",
      "https://www.yes24.com/Product/Goods/8759796\n",
      "https://www.yes24.com/Product/Goods/129602366\n",
      "https://www.yes24.com/Product/Goods/132565140\n",
      "https://www.yes24.com/Product/Goods/133819718\n",
      "https://www.yes24.com/Product/Goods/118322901\n",
      "https://www.yes24.com/Product/Goods/133138701\n",
      "https://www.yes24.com/Product/Goods/133813184\n",
      "https://www.yes24.com/Product/Goods/124043812\n",
      "https://www.yes24.com/Product/Goods/102457889\n"
     ]
    }
   ],
   "source": [
    "# 1페이지의 링크 데이터 전부 수집\n",
    "\n",
    "### 한 개의 베스트 셀러 링크 수집\n",
    "browser.find_element(By.CLASS_NAME, 'gd_name').get_attribute('href')\n",
    "\n",
    "### 1페이지 전체의 링크 데이터\n",
    "# browser.find_element(By.CLASS_NAME, 'gd_name') # element: 요소\n",
    "datas = browser.find_elements(By.CLASS_NAME, 'gd_name') # elements: 리스트\n",
    "\n",
    "for i in datas:\n",
    "    print(i.get_attribute('href'))"
   ]
  },
  {
   "cell_type": "code",
   "execution_count": 17,
   "metadata": {},
   "outputs": [
    {
     "name": "stdout",
     "output_type": "stream",
     "text": [
      "********** 현재 1 페이지 수집 중 입니다. **********\n",
      "['https://www.yes24.com/Product/Goods/133213071', 'https://www.yes24.com/Product/Goods/125557465', 'https://www.yes24.com/Product/Goods/131930939', 'https://www.yes24.com/Product/Goods/133312039', 'https://www.yes24.com/Product/Goods/133870359', 'https://www.yes24.com/Product/Goods/104663596', 'https://www.yes24.com/Product/Goods/133236068', 'https://www.yes24.com/Product/Goods/132560712', 'https://www.yes24.com/Product/Goods/133199014', 'https://www.yes24.com/Product/Goods/117014613', 'https://www.yes24.com/Product/Goods/133308510', 'https://www.yes24.com/Product/Goods/134331993', 'https://www.yes24.com/Product/Goods/128266166', 'https://www.yes24.com/Product/Goods/124999476', 'https://www.yes24.com/Product/Goods/124539805', 'https://www.yes24.com/Product/Goods/8759796', 'https://www.yes24.com/Product/Goods/129602366', 'https://www.yes24.com/Product/Goods/132565140', 'https://www.yes24.com/Product/Goods/133819718', 'https://www.yes24.com/Product/Goods/118322901', 'https://www.yes24.com/Product/Goods/133138701', 'https://www.yes24.com/Product/Goods/133813184', 'https://www.yes24.com/Product/Goods/124043812', 'https://www.yes24.com/Product/Goods/102457889']\n"
     ]
    }
   ],
   "source": [
    "import time\n",
    "\n",
    "link_list = []\n",
    "for i in range (1,2):\n",
    "    print('*' * 10, f'현재 {i} 페이지 수집 중 입니다.', '*' * 10)\n",
    "    url = f'https://www.yes24.com/Product/Category/BestSeller?categoryNumber=001&pageNumber={i}&pageSize=24'\n",
    "    browser.get(url)\n",
    "\n",
    "    time.sleep(1)\n",
    "\n",
    "    browser.find_element(By.CLASS_NAME, 'gd_name').get_attribute('href')\n",
    "    ### 1페이지 전체의 링크 데이터\n",
    "    # # browser.find_element(By.CLASS_NAME, 'gd_name') # element: 요소\n",
    "    datas = browser.find_elements(By.CLASS_NAME, 'gd_name') # elements: 리스트\n",
    "    for i in datas:\n",
    "        link = i.get_attribute('href')\n",
    "        link_list.append(link)\n",
    "\n",
    "\n",
    "print(link_list)"
   ]
  },
  {
   "cell_type": "code",
   "execution_count": 18,
   "metadata": {},
   "outputs": [
    {
     "data": {
      "text/plain": [
       "24"
      ]
     },
     "execution_count": 18,
     "metadata": {},
     "output_type": "execute_result"
    }
   ],
   "source": [
    "len(link_list)"
   ]
  },
  {
   "cell_type": "code",
   "execution_count": 15,
   "metadata": {},
   "outputs": [],
   "source": [
    "# for link in link_list:\n",
    "    # 상세 페이지로 이동\n",
    "#     browser.get(link)\n",
    "\n",
    "browser.get(link_list[0])\n",
    "\n",
    "title = browser.find_element(By.CLASS_NAME, 'gd_name').text\n",
    "\n",
    "autor = browser.find_element(By.CLASS_NAME, 'gd_pubArea').text\n",
    "\n",
    "publisher = browser.find_element(By.CLASS_NAME, 'gd_pub').text\n",
    "\n",
    "publishing = browser.find_element(By.CLASS_NAME, 'gd_date').text\n",
    "\n",
    "rating = browser.find_element(By.CLASS_NAME, 'yes_b').text\n",
    "\n",
    "reviews = browser.find_element(By.CLASS_NAME, 'gd_reviewCount').text\n",
    "\n",
    "sales = browser.find_element(By.CLASS_NAME, 'gd_sellNum').text.split (\" \")[2]\n",
    "\n",
    "price = browser.find_element(By.CLASS_NAME, 'yes_m').text[:-1]\n",
    "\n",
    "ranking = browser.find_element(By.CLASS_NAME, 'gd_best').text.split(\" | \")[0]\n",
    "ranking_weeks = browser.find_element(By.CLASS_NAME, 'gd_best').text.split(\" | \")[1]"
   ]
  },
  {
   "cell_type": "code",
   "execution_count": 21,
   "metadata": {},
   "outputs": [
    {
     "name": "stdout",
     "output_type": "stream",
     "text": [
      "1\n",
      "2\n",
      "3\n",
      "4\n",
      "5\n",
      "6\n",
      "7\n",
      "8\n",
      "9\n",
      "10\n",
      "11\n",
      "12\n",
      "13\n",
      "14\n",
      "15\n",
      "16\n",
      "17\n",
      "18\n",
      "19\n",
      "20\n",
      "21\n",
      "22\n",
      "23\n",
      "24\n"
     ]
    }
   ],
   "source": [
    "import pymysql\n",
    "import re\n",
    "from datetime import datetime\n",
    "from selenium.common.exceptions import NoSuchElementException\n",
    "\n",
    "\n",
    "conn = pymysql.connect(\n",
    "    host='localhost',\n",
    "    user='root',\n",
    "    password='4463',\n",
    "    db='yes24',\n",
    "    charset='utf8mb4',\n",
    "    cursorclass=pymysql.cursors.DictCursor\n",
    ")\n",
    "\n",
    "with conn.cursor() as cur:\n",
    "\n",
    "    for link in link_list:\n",
    "        browser.get(link)\n",
    "        time.sleep(0.1)\n",
    "        title = browser.find_element(By.CLASS_NAME, 'gd_name').text\n",
    "        author = browser.find_element(By.CLASS_NAME, 'gd_auth').text\n",
    "        publisher = browser.find_element(By.CLASS_NAME, 'gd_pub').text\n",
    "        publishing = browser.find_element(By.CLASS_NAME, 'gd_date').text\n",
    "    \n",
    "        match = re.search(r'(\\d+)년 (\\d+)월 (\\d+)일', publishing)\n",
    "        \n",
    "        if match:\n",
    "            year, month, day = match.groups()\n",
    "            data_obj = datetime(int(year), int(month), int(day))\n",
    "            publishing = data_obj.strftime(\"%Y-%m-%d\")\n",
    "        else:\n",
    "            publishing = \"2023-01-01\"\n",
    "            \n",
    "        try:  \n",
    "            rating = browser.find_element(By.CLASS_NAME, 'gd_rating').find_element(By.CLASS_NAME, 'yes_b').text\n",
    "        except NoSuchElementException:\n",
    "            rating = 0\n",
    "        try:\n",
    "            review = browser.find_element(By.CLASS_NAME, 'gd_reviewCount').find_element(By.CLASS_NAME, 'txC_blue').text\n",
    "            review = int(review.replace(\",\",\"\"))\n",
    "        except NoSuchElementException:\n",
    "            review = 0\n",
    "\n",
    "        sales = browser.find_element(By.CLASS_NAME, 'gd_sellNum').text.split(\" \")[2]\n",
    "        sales = int(sales.replace(\",\",\"\"))\n",
    "        \n",
    "        price = browser.find_element(By.CLASS_NAME, 'yes_m').text[:-1]\n",
    "        price = int(price.replace(\",\",\"\"))\n",
    "        \n",
    "        full_text = browser.find_element(By.CLASS_NAME, 'gd_best').text\n",
    "        parts = full_text.split(\" | \")\n",
    "            \n",
    "        if len(parts) == 1:\n",
    "            ranking = 0\n",
    "            ranking_weeks = 0\n",
    "        else:\n",
    "            try:\n",
    "                ranking_part = parts[0]\n",
    "                ranking = ''.join(filter(str.isdigit, ranking_part))\n",
    "            except:\n",
    "                ranking = 0\n",
    "                \n",
    "            print(ranking)\n",
    "            try:\n",
    "                ranking_weeks_part = parts[1]\n",
    "                ranking_weeks = ''.join(filter(str.isdigit, ranking_weeks_part.split()[-1]))\n",
    "            except:\n",
    "                ranking_weeks = 0\n",
    "        \n",
    "        sql = \"\"\"INSERT INTO Books(title, author, publisher, publishing, rating, review, sales, price, ranking, ranking_weeks)\n",
    "                VALUES(%s, %s, %s, %s, %s, %s, %s, %s, %s, %s\n",
    "                )\"\"\"\n",
    "        \n",
    "        cur.execute(sql,( title, author, publisher, publishing, rating, review, sales, price, ranking, ranking_weeks))\n",
    "        conn.commit()"
   ]
  }
 ],
 "metadata": {
  "kernelspec": {
   "display_name": "Python 3",
   "language": "python",
   "name": "python3"
  },
  "language_info": {
   "codemirror_mode": {
    "name": "ipython",
    "version": 3
   },
   "file_extension": ".py",
   "mimetype": "text/x-python",
   "name": "python",
   "nbconvert_exporter": "python",
   "pygments_lexer": "ipython3",
   "version": "3.12.3"
  }
 },
 "nbformat": 4,
 "nbformat_minor": 2
}
