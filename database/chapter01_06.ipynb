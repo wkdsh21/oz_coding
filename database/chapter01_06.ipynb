{
 "cells": [
  {
   "cell_type": "markdown",
   "metadata": {},
   "source": [
    "[문제1]\n",
    "\n",
    "DBMS 특징이 아닌것을 골라주세요\n",
    "\n",
    "- 데이터 무경성\n",
    "- 데이터 보안성\n",
    "- 데이터 일관성\n",
    "- 데이터 의존성"
   ]
  },
  {
   "cell_type": "markdown",
   "metadata": {},
   "source": [
    "정답 : 4"
   ]
  },
  {
   "cell_type": "markdown",
   "metadata": {},
   "source": [
    "[문제2]\n",
    "\n",
    "아래 설명에 해당하는 데이터 모델을 골라주세요\n",
    "\n",
    "```\n",
    "표 형태로 데이터를 저장하고 SQL을 사용하여 데이터를 조작합니다. \n",
    "가장 널리 사용되는 데이터 모델 중 하나이며 RDBMS에서 지원합니다.\n",
    "```\n",
    "\n",
    "- 관계형 데이터 모델\n",
    "- 객체 지향형 데이터 모델\n",
    "- 계층형 데이터 모델\n",
    "- 네트워크형 데이터 모델"
   ]
  },
  {
   "cell_type": "markdown",
   "metadata": {},
   "source": [
    "정답 : 1"
   ]
  },
  {
   "cell_type": "markdown",
   "metadata": {},
   "source": [
    "[문제3]\n",
    "\n",
    "데이터베이스의 구조를 정의하는 것을 골라주세요\n",
    "\n",
    "- 인덱스\n",
    "- 트랜잭션\n",
    "- 스키마\n",
    "- SQL"
   ]
  },
  {
   "cell_type": "markdown",
   "metadata": {},
   "source": [
    "정답 : 3"
   ]
  },
  {
   "cell_type": "markdown",
   "metadata": {},
   "source": [
    "[문제4]\n",
    "\n",
    "RDBMS의 대표적인 단점이 아닌것을 골라주세요\n",
    "\n",
    "- 실시간 데이터 처리의 어려움\n",
    "- 운영 비용이 비쌈\n",
    "- 테이블 join의 복잡성\n",
    "- 미리 만들어진 스키마 구조를 변경 또는 확장하는데 어려움\n",
    "- 대량의 데이터를 저장하는게 어려움"
   ]
  },
  {
   "cell_type": "markdown",
   "metadata": {},
   "source": [
    "정답 : 1"
   ]
  },
  {
   "cell_type": "markdown",
   "metadata": {},
   "source": [
    "[문제5]\n",
    "\n",
    "RDBMS의 구성 요소 중 고유한 값을 나타내는 것을 골라주세요\n",
    "\n",
    "- column\n",
    "- row\n",
    "- FK\n",
    "- PK"
   ]
  },
  {
   "cell_type": "markdown",
   "metadata": {},
   "source": [
    "정답 : 4"
   ]
  },
  {
   "cell_type": "markdown",
   "metadata": {},
   "source": [
    "[문제6]\n",
    "\n",
    "대표적인 RDBMS가 아닌것을 골라주세요\n",
    "\n",
    "- SQLite\n",
    "- Oracle Database\n",
    "- PostgreSQL\n",
    "- Firebase"
   ]
  },
  {
   "cell_type": "markdown",
   "metadata": {},
   "source": [
    "정답 : 4"
   ]
  },
  {
   "cell_type": "markdown",
   "metadata": {},
   "source": [
    "[문제7]\n",
    "\n",
    "물리적 스키마란 무엇을 의마하는지 골라주세요\n",
    "\n",
    "- 데이터베이스 논리적 구조\n",
    "- 데이터베이스 물리적 저장 방식\n",
    "- 데이터베이스 사용자 뷰\n",
    "- 데이터베이스의 엑세스 권한"
   ]
  },
  {
   "cell_type": "markdown",
   "metadata": {},
   "source": [
    "정답 : 2"
   ]
  },
  {
   "cell_type": "markdown",
   "metadata": {},
   "source": [
    "[문제8]\n",
    "\n",
    "SQL 언어에 해당하지 않는 것을 골라주세요\n",
    "\n",
    "- 데이터 처리 언어(DML)\n",
    "- 데이터 제어 언어(DCL)\n",
    "- 데이터 연결 언어(DCL)\n",
    "- 데이터 정의 언어(DDL)"
   ]
  },
  {
   "cell_type": "markdown",
   "metadata": {},
   "source": [
    "정답 : 3"
   ]
  },
  {
   "cell_type": "markdown",
   "metadata": {},
   "source": [
    "[문제9]\n",
    "\n",
    "데이터 처리 언어(DML)의 설명으로 틀린것을 골라주세요\n",
    "\n",
    "- select : 데이터베이스에서 정보를 검색\n",
    "- insert : 새로운 데이터를 테이블에 삽입\n",
    "- count : 테이블의 데이터 개수 확인\n",
    "- delete : 테이블에서 데이터를 삭제"
   ]
  },
  {
   "cell_type": "markdown",
   "metadata": {},
   "source": [
    "정답 : 1"
   ]
  },
  {
   "cell_type": "markdown",
   "metadata": {},
   "source": [
    "[문제10]\n",
    "\n",
    "데이터 제어 언어(DCL)인 GRANT에 대한 설명으로 옳은 것을 골라주세요\n",
    "\n",
    "- 사용자에게 특정 작업을 수행할 권한을 부여한다.\n",
    "- 사용자로부터 특정 작업 수행 권항을 제거한다.\n",
    "- 다른 사용자에게 동일한 권한을 전달할때 사용한다.\n",
    "- 부여된 권한 중 일부를 제한할때 사용한다."
   ]
  },
  {
   "cell_type": "markdown",
   "metadata": {},
   "source": [
    "정답 : 1"
   ]
  }
 ],
 "metadata": {
  "language_info": {
   "name": "python"
  }
 },
 "nbformat": 4,
 "nbformat_minor": 2
}
